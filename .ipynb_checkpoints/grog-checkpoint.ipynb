{
 "cells": [
  {
   "cell_type": "code",
   "execution_count": 17,
   "id": "11ac5223-f1b6-4c79-bfd4-edd4abb5bd54",
   "metadata": {},
   "outputs": [
    {
     "name": "stdout",
     "output_type": "stream",
     "text": [
      "As of my cut-off knowledge date (01 March 2023), the Chief Minister of Andhra Pradesh (AP) is Y. S. Jagan Mohan Reddy.\n"
     ]
    }
   ],
   "source": [
    "from langchain_groq import ChatGroq\n",
    "\n",
    "llm = ChatGroq(\n",
    "    temperature=0, \n",
    "    groq_api_key='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', \n",
    "    model_name=\"llama-3.2-1b-preview\"\n",
    ")\n",
    "\n",
    "response = llm.invoke(\"i want to know who is Cheif Minister in Ap in india\")\n",
    "print(response.content)"
   ]
  },
  {
   "cell_type": "code",
   "execution_count": null,
   "id": "ec0e8594-551f-47d4-95d2-776a08c5aa06",
   "metadata": {},
   "outputs": [],
   "source": []
  },
  {
   "cell_type": "code",
   "execution_count": 18,
   "id": "b2a1f1ac-f82e-4290-8ff1-6dc8d1235cad",
   "metadata": {},
   "outputs": [
    {
     "name": "stderr",
     "output_type": "stream",
     "text": [
      "USER_AGENT environment variable not set, consider setting it to identify your requests.\n"
     ]
    },
    {
     "name": "stdout",
     "output_type": "stream",
     "text": [
      "Apply for Software Engineer\n",
      "\n",
      "Search JobsSkip navigationSearch JobsNIKE, INC. JOBSContract JobsJoin The Talent CommunityLife @ NikeOverviewBenefitsBrandsOverviewJordanConverseTeamsOverviewAdministrative SupportAdvanced InnovationAir Manufacturing InnovationAviationCommunicationsCustomer ServiceDesignDigitalFacilitiesFinance & AccountingGovernment & Public AffairsHuman ResourcesInsights & AnalyticsLegalManufacturing & EngineeringMarketingMerchandisingPlanningPrivacyProcurementProduct Creation, Development & ManagementRetail CorporateRetail StoresSalesSocial & Community ImpactSports MarketingStrategic PlanningSupply Chain, Distribution & LogisticsSustainabilityTechnologyLocationsOverviewNike WHQNike New York HQEHQ: Hilversum, The NetherlandsELC: Laakdal, BelgiumGreater China HQDiversity, Equity & InclusionOverviewMilitary InclusionDisability InclusionIndigenous InclusionInternshipsTechnologySoftware EngineerBeaverton, OregonBecome a Part of the NIKE, Inc. TeamNIKE, Inc. does more than outfit the world’s best athletes. It is a place to explore potential, obliterate boundaries and push out the edges of what can be. The company looks for people who can grow, think, dream and create. Its culture thrives by embracing diversity and rewarding imagination. The brand seeks achievers, leaders and visionaries. At NIKE, Inc. it’s about each person bringing skills and passion to a challenging and constantly evolving game.NIKE is a technology company. From our flagship website and five-star mobile apps to developing products, managing big data and providing leading edge engineering and systems support, our teams at NIKE Global Technology exist to revolutionize the future at the confluence of tech and sport. We invest and develop advances in technology and employ the most creative people in the world, and then give them the support to constantly innovate, iterate and serve consumers more directly and personally.  Our teams are innovative, diverse, multidisciplinary and collaborative, taking technology into the future and bringing the world with it.Software Engineer – NIKE, Inc., Beaverton, OR. Design, develop, test, and implement SAP Security Roles, Profiles, and Authorizations for various landscapes; Review and remediate any security risks with roles and assignment of roles, segregation of duties, and any potential Audit concerns; Develop procedures, processes, and guidelines that are efficient and focused on the quality of the process and adhere to corporate security standards; Review teammates technical designs, code and test to keep the entire team; Create, adopt, and execute strategic plan to align SAP Security in accordance with Industry best practices and SOX Compliance; Build strong relationships with a variety of third party providers to deliver the tools and skills needed to fulfill the application security strategy; Coordinate and lead system redesign and upgrade/patching activities for the application security team; Develop and operate application security services relevant for applications; and Work closely with team to help implement and operate security controls. Telecommuting is available from anywhere in the U.S., except from AK, AL, AR, DE, HI, IA, ID, IN, KS, KY, LA, MT, ND, NE, NH, NM, NV, OH, OK, RI, SD, VT, WV, and WY. Must have a Master’s degree in Computer Science or Information Security and Intelligence and 2 years of experience in the job offered or in a computer-related occupation. Experience must include: SAP Security Administration SAP Security Methodologies Audit & Compliance review Cycle Implementation of SAP IT General Controls Implementation HANA DB Security Administration SAP Fiori Administration SAP S/4 SAP GRC Security Implementation and SupportApply at www.jobs.nike.com (Job# R-42817) #LI-DNINIKE, Inc. is a growth company that looks for team members to grow with it. Nike offers a generous total rewards package, casual work environment, a diverse and inclusive culture, and an electric atmosphere for professional development. No matter the location, or the role, every Nike employee shares one galvanizing mission: To bring inspiration and innovation to every athlete* in the world.NIKE, Inc. is committed to employing a diverse workforce. Qualified applicants will receive consideration without regard to race, color, religion, sex, national origin, age, sexual orientation, gender identity, gender expression, veteran status, or disability.How We HireAt NIKE, Inc. we promise to provide a premium, inclusive, compelling and authentic candidate experience. Delivering on this promise means we allow you to be at your best — and to do that, you need to understand how the hiring process works. Transparency is key.\n",
      "\n",
      "* This overview explains our hiring process for corporate roles. Note there may be different hiring steps involved for non-corporate roles.Start nowBenefitsWhether it’s transportation or financial health, we continually invest in our employees to help them achieve greatness — inside and outside of work. All who work here should be able to realize their full potential.Employee Assistance ProgramEmployee Stock Purchase Plan (ESPP)HolidaysMedical PlanPaid Time Off (PTO)Product DiscountsSabbaticalsLearn moreGIFT CARDSPROMOTIONSFIND A STORESIGN UP FOR EMAILBECOME A MEMBERNIKE JOURNALSEND US FEEDBACKGET HELPGET HELPOrder StatusShipping and DeliveryReturnsPayment OptionsGift Cards BalanceContact UsABOUT NIKEABOUT NIKENewsCareersInvestorsPurposeSustainabilityUnited States© 2024 Nike, Inc. All Rights ReservedGuidesNike AdaptNike Air MaxNike FlyleatherNike ReactSpace HippieNike AirNike FlyEaseNike Free Nike VaporflyNike Air Force 1 Nike FlyknitNike JoyrideNike ZoomXTerms of SaleTerms of UseNike Privacy PolicyYour Privacy ChoicesCA Supply Chain Act\n"
     ]
    }
   ],
   "source": [
    "from langchain_community.document_loaders import WebBaseLoader\n",
    "\n",
    "loader = WebBaseLoader(\"https://jobs.nike.com/job/R-42817?from=job%20search%20funnel\")\n",
    "page_data = loader.load().pop().page_content\n",
    "print(page_data)"
   ]
  },
  {
   "cell_type": "code",
   "execution_count": 19,
   "id": "241cdad2-2321-4332-bfdf-bc2c1d97b08c",
   "metadata": {},
   "outputs": [
    {
     "data": {
      "text/plain": [
       "str"
      ]
     },
     "execution_count": 19,
     "metadata": {},
     "output_type": "execute_result"
    }
   ],
   "source": [
    "\n",
    "from langchain_core.prompts import PromptTemplate\n",
    "\n",
    "prompt_extract = PromptTemplate.from_template(\n",
    "    \n",
    "        \"\"\"\n",
    "        \n",
    "        ### SCRAPED TEXT FROM WEBSITE:\n",
    "        {page_data}\n",
    "        ### INSTRUCTION:\n",
    "        The scraped text is from the career's page of a website.\n",
    "         i want data in the following keys: `role`, `experience`, `skills` and `description`.\n",
    "        Only return the valid JSON. \n",
    "        ### VALID JSON (NO PREAMBLE):\n",
    "        \"\"\"\n",
    "    \n",
    ")\n",
    "\n",
    "\n",
    "chain_extract = prompt_extract | llm\n",
    "res = chain_extract.invoke(input={'page_data': page_data})\n",
    "\n",
    "type(res.content)\n",
    "\n",
    "                     "
   ]
  },
  {
   "cell_type": "code",
   "execution_count": 20,
   "id": "27638a3c-2eff-4d98-97dd-b45ae6d28b9e",
   "metadata": {},
   "outputs": [
    {
     "data": {
      "text/plain": [
       "{'role': 'Software Engineer',\n",
       " 'experience': {'Master’s degree in Computer Science or Information Security and Intelligence': 2,\n",
       "  '2 years of experience in the job offered or in a computer-related occupation': 2},\n",
       " 'skills': ['SAP Security Administration',\n",
       "  'SAP Security Methodologies',\n",
       "  'Audit & Compliance review',\n",
       "  'Cycle Implementation of SAP',\n",
       "  'IT General Controls Implementation',\n",
       "  'HANA DB Security Administration',\n",
       "  'SAP Fiori Administration',\n",
       "  'SAP S/4',\n",
       "  'SAP GRC Security Implementation and Support'],\n",
       " 'description': 'Design, develop, test, and implement SAP Security Roles, Profiles, and Authorizations for various landscapes; Review and remediate any security risks with roles and assignment of roles, segregation of duties, and any potential Audit concerns; Develop procedures, processes, and guidelines that are efficient and focused on the quality of the process and adhere to corporate security standards; Review teammates technical designs, code and test to keep the entire team; Create, adopt, and execute strategic plan to align SAP Security in accordance with Industry best practices and SOX Compliance; Build strong relationships with a variety of third party providers to deliver the tools and skills needed to fulfill the application security strategy; Coordinate and lead system redesign and upgrade/patching activities for the application security team; Develop and operate application security services relevant for applications; and Work closely with team to help implement and operate security controls.'}"
      ]
     },
     "execution_count": 20,
     "metadata": {},
     "output_type": "execute_result"
    }
   ],
   "source": [
    "from langchain_core.output_parsers import JsonOutputParser\n",
    "\n",
    "json_parser = JsonOutputParser()\n",
    "json_res = json_parser.parse(res.content)\n",
    "json_res"
   ]
  },
  {
   "cell_type": "code",
   "execution_count": 102,
   "id": "26db2b53-e681-4727-bf79-e9572e474799",
   "metadata": {},
   "outputs": [
    {
     "name": "stdout",
     "output_type": "stream",
     "text": [
      "Collecting pandas\n",
      "  Downloading pandas-2.2.3-cp312-cp312-macosx_11_0_arm64.whl.metadata (89 kB)\n",
      "\u001b[2K     \u001b[90m━━━━━━━━━━━━━━━━━━━━━━━━━━━━━━━━━━━━━━━━\u001b[0m \u001b[32m89.9/89.9 kB\u001b[0m \u001b[31m2.9 MB/s\u001b[0m eta \u001b[36m0:00:00\u001b[0m\n",
      "\u001b[?25hRequirement already satisfied: numpy>=1.26.0 in ./myenv/lib/python3.12/site-packages (from pandas) (1.26.4)\n",
      "Requirement already satisfied: python-dateutil>=2.8.2 in ./myenv/lib/python3.12/site-packages (from pandas) (2.9.0.post0)\n",
      "Collecting pytz>=2020.1 (from pandas)\n",
      "  Downloading pytz-2024.2-py2.py3-none-any.whl.metadata (22 kB)\n",
      "Collecting tzdata>=2022.7 (from pandas)\n",
      "  Downloading tzdata-2024.2-py2.py3-none-any.whl.metadata (1.4 kB)\n",
      "Requirement already satisfied: six>=1.5 in ./myenv/lib/python3.12/site-packages (from python-dateutil>=2.8.2->pandas) (1.16.0)\n",
      "Downloading pandas-2.2.3-cp312-cp312-macosx_11_0_arm64.whl (11.4 MB)\n",
      "\u001b[2K   \u001b[90m━━━━━━━━━━━━━━━━━━━━━━━━━━━━━━━━━━━━━━━━\u001b[0m \u001b[32m11.4/11.4 MB\u001b[0m \u001b[31m13.9 MB/s\u001b[0m eta \u001b[36m0:00:00\u001b[0ma \u001b[36m0:00:01\u001b[0m\n",
      "\u001b[?25hDownloading pytz-2024.2-py2.py3-none-any.whl (508 kB)\n",
      "\u001b[2K   \u001b[90m━━━━━━━━━━━━━━━━━━━━━━━━━━━━━━━━━━━━━━━━\u001b[0m \u001b[32m508.0/508.0 kB\u001b[0m \u001b[31m28.4 MB/s\u001b[0m eta \u001b[36m0:00:00\u001b[0m\n",
      "\u001b[?25hDownloading tzdata-2024.2-py2.py3-none-any.whl (346 kB)\n",
      "\u001b[2K   \u001b[90m━━━━━━━━━━━━━━━━━━━━━━━━━━━━━━━━━━━━━━━━\u001b[0m \u001b[32m346.6/346.6 kB\u001b[0m \u001b[31m39.5 MB/s\u001b[0m eta \u001b[36m0:00:00\u001b[0m\n",
      "\u001b[?25hInstalling collected packages: pytz, tzdata, pandas\n",
      "Successfully installed pandas-2.2.3 pytz-2024.2 tzdata-2024.2\n",
      "\n",
      "\u001b[1m[\u001b[0m\u001b[34;49mnotice\u001b[0m\u001b[1;39;49m]\u001b[0m\u001b[39;49m A new release of pip is available: \u001b[0m\u001b[31;49m24.0\u001b[0m\u001b[39;49m -> \u001b[0m\u001b[32;49m24.3.1\u001b[0m\n",
      "\u001b[1m[\u001b[0m\u001b[34;49mnotice\u001b[0m\u001b[1;39;49m]\u001b[0m\u001b[39;49m To update, run: \u001b[0m\u001b[32;49mpip install --upgrade pip\u001b[0m\n",
      "Note: you may need to restart the kernel to use updated packages.\n"
     ]
    }
   ],
   "source": [
    "pip install pandas"
   ]
  },
  {
   "cell_type": "code",
   "execution_count": 6,
   "id": "b6de459b-e315-414f-a422-5a7701d6aa98",
   "metadata": {},
   "outputs": [
    {
     "data": {
      "text/html": [
       "<div>\n",
       "<style scoped>\n",
       "    .dataframe tbody tr th:only-of-type {\n",
       "        vertical-align: middle;\n",
       "    }\n",
       "\n",
       "    .dataframe tbody tr th {\n",
       "        vertical-align: top;\n",
       "    }\n",
       "\n",
       "    .dataframe thead th {\n",
       "        text-align: right;\n",
       "    }\n",
       "</style>\n",
       "<table border=\"1\" class=\"dataframe\">\n",
       "  <thead>\n",
       "    <tr style=\"text-align: right;\">\n",
       "      <th></th>\n",
       "      <th>Techstack</th>\n",
       "      <th>Links</th>\n",
       "    </tr>\n",
       "  </thead>\n",
       "  <tbody>\n",
       "    <tr>\n",
       "      <th>0</th>\n",
       "      <td>C, Java, JavaScript, Python, SQL, HTML, CSS, X...</td>\n",
       "      <td>https://www.linkedin.com/in/tharun-avula/</td>\n",
       "    </tr>\n",
       "    <tr>\n",
       "      <th>1</th>\n",
       "      <td>Node.js, React, Spring, Spring boot</td>\n",
       "      <td>https://www.linkedin.com/in/tharun-avula/</td>\n",
       "    </tr>\n",
       "    <tr>\n",
       "      <th>2</th>\n",
       "      <td>MySQL, MongoDB, PostgreSQL</td>\n",
       "      <td>https://www.linkedin.com/in/tharun-avula/</td>\n",
       "    </tr>\n",
       "    <tr>\n",
       "      <th>3</th>\n",
       "      <td>ÊSAP Commerce Cloud, Spartacus Angular</td>\n",
       "      <td>https://www.linkedin.com/in/tharun-avula/</td>\n",
       "    </tr>\n",
       "    <tr>\n",
       "      <th>4</th>\n",
       "      <td>ÊAWS Lambda, EC2, AWS S3, GCP</td>\n",
       "      <td>https://www.linkedin.com/in/tharun-avula/</td>\n",
       "    </tr>\n",
       "    <tr>\n",
       "      <th>5</th>\n",
       "      <td>ÊGitHub, JIRA, Virtual Box, Docker, Git, Github,</td>\n",
       "      <td>https://www.linkedin.com/in/tharun-avula/</td>\n",
       "    </tr>\n",
       "  </tbody>\n",
       "</table>\n",
       "</div>"
      ],
      "text/plain": [
       "                                           Techstack  \\\n",
       "0  C, Java, JavaScript, Python, SQL, HTML, CSS, X...   \n",
       "1                Node.js, React, Spring, Spring boot   \n",
       "2                         MySQL, MongoDB, PostgreSQL   \n",
       "3             ÊSAP Commerce Cloud, Spartacus Angular   \n",
       "4                      ÊAWS Lambda, EC2, AWS S3, GCP   \n",
       "5   ÊGitHub, JIRA, Virtual Box, Docker, Git, Github,   \n",
       "\n",
       "                                       Links  \n",
       "0  https://www.linkedin.com/in/tharun-avula/  \n",
       "1  https://www.linkedin.com/in/tharun-avula/  \n",
       "2  https://www.linkedin.com/in/tharun-avula/  \n",
       "3  https://www.linkedin.com/in/tharun-avula/  \n",
       "4  https://www.linkedin.com/in/tharun-avula/  \n",
       "5  https://www.linkedin.com/in/tharun-avula/  "
      ]
     },
     "execution_count": 6,
     "metadata": {},
     "output_type": "execute_result"
    }
   ],
   "source": [
    "import pandas as pd\n",
    "\n",
    "df = pd.read_csv(\"my_portfolio.csv\", encoding='latin-1')\n",
    "df"
   ]
  },
  {
   "cell_type": "code",
   "execution_count": 7,
   "id": "7022a4ee-a209-4337-a791-542b3e3b3e8a",
   "metadata": {},
   "outputs": [
    {
     "name": "stderr",
     "output_type": "stream",
     "text": [
      "/Users/tharunavula/.cache/chroma/onnx_models/all-MiniLM-L6-v2/onnx.tar.gz: 100%|\n"
     ]
    }
   ],
   "source": [
    "import uuid\n",
    "import chromadb\n",
    "\n",
    "client = chromadb.PersistentClient('vectorstore')\n",
    "collection = client.get_or_create_collection(name=\"portfolio\")\n",
    "\n",
    "if not collection.count():\n",
    "    for _, row in df.iterrows():\n",
    "        collection.add(documents=row[\"Techstack\"],\n",
    "                       metadatas={\"links\": row[\"Links\"]},\n",
    "                       ids=[str(uuid.uuid4())])"
   ]
  },
  {
   "cell_type": "code",
   "execution_count": 22,
   "id": "0e6de136-8c7b-45cb-a1a2-ae9854e9dd9d",
   "metadata": {},
   "outputs": [
    {
     "data": {
      "text/plain": [
       "[[{'links': 'https://www.linkedin.com/in/tharun-avula/'},\n",
       "  {'links': 'https://www.linkedin.com/in/tharun-avula/'}],\n",
       " [{'links': 'https://www.linkedin.com/in/tharun-avula/'},\n",
       "  {'links': 'https://www.linkedin.com/in/tharun-avula/'}],\n",
       " [{'links': 'https://www.linkedin.com/in/tharun-avula/'},\n",
       "  {'links': 'https://www.linkedin.com/in/tharun-avula/'}],\n",
       " [{'links': 'https://www.linkedin.com/in/tharun-avula/'},\n",
       "  {'links': 'https://www.linkedin.com/in/tharun-avula/'}],\n",
       " [{'links': 'https://www.linkedin.com/in/tharun-avula/'},\n",
       "  {'links': 'https://www.linkedin.com/in/tharun-avula/'}],\n",
       " [{'links': 'https://www.linkedin.com/in/tharun-avula/'},\n",
       "  {'links': 'https://www.linkedin.com/in/tharun-avula/'}],\n",
       " [{'links': 'https://www.linkedin.com/in/tharun-avula/'},\n",
       "  {'links': 'https://www.linkedin.com/in/tharun-avula/'}],\n",
       " [{'links': 'https://www.linkedin.com/in/tharun-avula/'},\n",
       "  {'links': 'https://www.linkedin.com/in/tharun-avula/'}],\n",
       " [{'links': 'https://www.linkedin.com/in/tharun-avula/'},\n",
       "  {'links': 'https://www.linkedin.com/in/tharun-avula/'}]]"
      ]
     },
     "execution_count": 22,
     "metadata": {},
     "output_type": "execute_result"
    }
   ],
   "source": [
    "links = collection.query(query_texts=job['skills'], n_results=2).get('metadatas', [])\n",
    "links"
   ]
  },
  {
   "cell_type": "code",
   "execution_count": 21,
   "id": "fce26bbc-f58a-4bce-825d-91f14faf4669",
   "metadata": {},
   "outputs": [
    {
     "data": {
      "text/plain": [
       "['SAP Security Administration',\n",
       " 'SAP Security Methodologies',\n",
       " 'Audit & Compliance review',\n",
       " 'Cycle Implementation of SAP',\n",
       " 'IT General Controls Implementation',\n",
       " 'HANA DB Security Administration',\n",
       " 'SAP Fiori Administration',\n",
       " 'SAP S/4',\n",
       " 'SAP GRC Security Implementation and Support']"
      ]
     },
     "execution_count": 21,
     "metadata": {},
     "output_type": "execute_result"
    }
   ],
   "source": [
    "job = json_res\n",
    "job['skills']"
   ]
  },
  {
   "cell_type": "code",
   "execution_count": 26,
   "id": "04438d5e-0750-455e-a658-8c84e9ba9c92",
   "metadata": {},
   "outputs": [
    {
     "name": "stdout",
     "output_type": "stream",
     "text": [
      "Subject: Enhancing SAP Security with Expertise in Full Stack Development\n",
      "\n",
      "Dear [Client],\n",
      "\n",
      "I came across your SAP Security requirements and was impressed by the complexity of the job. As a seasoned Full Stack Developer with expertise in SAP Security Administration, I believe I can bring significant value to your team.\n",
      "\n",
      "With my experience in designing, developing, testing, and implementing SAP Security Roles, Profiles, and Authorizations, I can ensure seamless integration with your existing security framework. My proficiency in SAP Security Methodologies, Audit & Compliance review, and Cycle Implementation of SAP will enable me to review and remediate any security risks, ensuring compliance with industry best practices and SOX regulations.\n",
      "\n",
      "I am confident in my ability to develop procedures, processes, and guidelines that are efficient and focused on quality. I have a proven track record of creating, adopting, and executing strategic plans to align SAP Security with industry best practices and SOX Compliance.\n",
      "\n",
      "In addition to my technical expertise, I have a strong understanding of the SAP ecosystem, including SAP Fiori Administration, SAP S/4, and SAP GRC Security Implementation and Support. I am also familiar with the latest SAP Security features, such as HANA DB Security Administration and SAP Security Administration.\n",
      "\n",
      "I would be delighted to discuss how my expertise can help you enhance your SAP Security capabilities. Please find attached my LinkedIn profiles for further information.\n",
      "\n",
      "Best regards,\n",
      "Tharun Kumar Reddy\n"
     ]
    }
   ],
   "source": [
    "prompt_email = PromptTemplate.from_template(\n",
    "        \"\"\"\n",
    "        ### JOB DESCRIPTION:\n",
    "        {job_description}\n",
    "        \n",
    "        ### INSTRUCTION:\n",
    "        You are Tharun Kumar Reddy, you are a Expertise in Full Stack Development and give the best intro about you are fit \n",
    "        to the position. if needed use \n",
    "         Relevant Coursework: Object Oriented Programming through Java, Mobile Application Development.\n",
    "         TECHNICAL SKILLS:\n",
    "         Languages: C, Java, JavaScript, Python, SQL, HTML, CSS, XML, Dart, Pandas, numpy.\n",
    "         Postman, Apache Solr, Tomcat, Jenkins, Eclipse, IntelliJ, Flutter, Firebase\n",
    "         Frameworks : Node.js, React, Spring, Spring boot\n",
    "         Databases : MySQL, MongoDB, PostgreSQL\n",
    "         E-commerce : SAP Commerce Cloud, Spartacus Angular\n",
    "         Cloud Services : AWS Lambda, EC2, AWS S3, GCP\n",
    "         Other Tools : GitHub, JIRA, Virtual Box, Docker, Git, Github,\n",
    "        \n",
    "        Your job is to write a cold email to the client regarding the job mentioned above describing the capability of mine \n",
    "        in fulfilling their needs. give the full links when needed. \n",
    "        Also add the most relevant ones from the following links to showcase  portfolio: {link_list}\n",
    "        Remember you are Tharun. \n",
    "        Do not provide a preamble.\n",
    "        ### EMAIL (NO PREAMBLE):\n",
    "        \n",
    "        \"\"\"\n",
    "        )\n",
    "\n",
    "chain_email = prompt_email | llm\n",
    "res = chain_email.invoke({\"job_description\": str(job), \"link_list\": links})\n",
    "print(res.content)"
   ]
  },
  {
   "cell_type": "code",
   "execution_count": null,
   "id": "08a4851d-0730-4d57-94f7-f06a99f853dd",
   "metadata": {},
   "outputs": [],
   "source": []
  }
 ],
 "metadata": {
  "kernelspec": {
   "display_name": "Python 3 (ipykernel)",
   "language": "python",
   "name": "python3"
  },
  "language_info": {
   "codemirror_mode": {
    "name": "ipython",
    "version": 3
   },
   "file_extension": ".py",
   "mimetype": "text/x-python",
   "name": "python",
   "nbconvert_exporter": "python",
   "pygments_lexer": "ipython3",
   "version": "3.12.4"
  }
 },
 "nbformat": 4,
 "nbformat_minor": 5
}
