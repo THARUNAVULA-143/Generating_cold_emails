{
 "cells": [
  {
   "cell_type": "code",
   "execution_count": null,
   "id": "993ac917-9c3d-4a12-85e7-6b8ebcb8a99d",
   "metadata": {},
   "outputs": [],
   "source": [
    "import chromadb\n",
    "client = chromadb.Client()\n",
    "collection= cliend.create_collection(name=\"mycollection\")"
   ]
  },
  {
   "cell_type": "code",
   "execution_count": null,
   "id": "c28a740f-bd3d-49e8-9bf1-c6c018e3a1c1",
   "metadata": {},
   "outputs": [],
   "source": [
    "collection.add(\n",
    "    documents=[\n",
    "        \" \n",
    "    ]\n",
    ")"
   ]
  }
 ],
 "metadata": {
  "kernelspec": {
   "display_name": "Python 3 (ipykernel)",
   "language": "python",
   "name": "python3"
  },
  "language_info": {
   "codemirror_mode": {
    "name": "ipython",
    "version": 3
   },
   "file_extension": ".py",
   "mimetype": "text/x-python",
   "name": "python",
   "nbconvert_exporter": "python",
   "pygments_lexer": "ipython3",
   "version": "3.12.4"
  }
 },
 "nbformat": 4,
 "nbformat_minor": 5
}
